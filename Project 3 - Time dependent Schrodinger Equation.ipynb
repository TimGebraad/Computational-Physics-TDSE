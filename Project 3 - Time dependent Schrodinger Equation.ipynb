{
 "cells": [
  {
   "cell_type": "markdown",
   "metadata": {},
   "source": [
    "# Time Dependent Schrodinger Equation\n",
    "    Marienne Faro - 4229592\n",
    "    Tim Gebraad - 4247612\n",
    "\n",
    "    AP3082D - Computational Physics - Project 3"
   ]
  },
  {
   "cell_type": "markdown",
   "metadata": {},
   "source": [
    "This notebook contains the results for solving the time dependent Schrödinger equation in 1D and 2D for different types of potential landscapes. The methods used to solve these TDSE are Crank-Nicholson, which is basicly a dicretization of the differential equation. The other method is the Split Operator (SO) which calculates the quantum mechanical time evolution of a non-commuting Hamiltonian by a Lie, Suzuki, Trotter process, where the time evolution of the two parts of the Hamiltonian are rapidly alternated, resulting in an error that scales with the timestep squared."
   ]
  },
  {
   "cell_type": "markdown",
   "metadata": {},
   "source": [
    "(The units used can be derived from setting the electron mass to 1 and $\\hbar=0$, which simplifies the SE) "
   ]
  },
  {
   "cell_type": "markdown",
   "metadata": {},
   "source": [
    "### 1D TDSE "
   ]
  },
  {
   "cell_type": "code",
   "execution_count": 70,
   "metadata": {
    "collapsed": true
   },
   "outputs": [],
   "source": [
    "import numpy as np\n",
    "import matplotlib\n",
    "import matplotlib.pyplot as plt\n",
    "import matplotlib.animation as animation\n",
    "import scipy.sparse.linalg\n",
    "import scipy.sparse as sparse\n",
    "from scipy.sparse import spdiags\n",
    "from scipy.sparse import csr_matrix\n",
    "import time"
   ]
  },
  {
   "cell_type": "code",
   "execution_count": 87,
   "metadata": {
    "collapsed": false
   },
   "outputs": [],
   "source": [
    "class TDSE_1D(object):\n",
    "    def __init__(self):\n",
    "        return\n",
    "        \n",
    "    def SetSpace(self, xmin, xmax, Xsteps):\n",
    "        self.x = np.linspace(xmin,xmax,Xsteps)\n",
    "        self.X = Xsteps\n",
    "        self.dx = (xmax-xmin)/self.X\n",
    "        \n",
    "        self.k = np.fft.fftfreq(self.X, self.dx)\n",
    "        return\n",
    "                \n",
    "    def SetPotential(self, V, param=None):\n",
    "        self.V = np.zeros(self.X)\n",
    "        if V=='Infinite Barrier':\n",
    "            self.V[int(0.52*self.X):self.X-1] = 2**10\n",
    "        elif V=='Tunneling Barrier':\n",
    "            [w,h] = param\n",
    "            self.V[int(0.52*self.X):int(0.52*self.X+w/self.dx)] = h\n",
    "        elif V=='Infinite Well':\n",
    "            a = param/2\n",
    "            self.V[0:int(self.X/2-a/self.dx)]        = 2**10\n",
    "            self.V[int(self.X/2+a/self.dx):self.X-1] = 2**10\n",
    "        elif V=='Harmonic Oscillator':\n",
    "            k0 = param[0]\n",
    "            self.V = k0*self.x**2\n",
    "        elif V=='Lattice Sine':\n",
    "            [A, k0] = param\n",
    "            self.V = A-A*np.cos(k0*self.x)\n",
    "        elif V=='Lattice Delta':\n",
    "            [a, b, h] = param\n",
    "            N = int(self.X*self.dx/b)\n",
    "            dn = int(self.X/N)\n",
    "            for n in range(N):\n",
    "                self.V[n*dn:n*dn+int(a/self.dx)] = h\n",
    "        else:\n",
    "            self.V = V\n",
    "            \n",
    "    def SetInitialWave(self, k0=1, sigma=0.05):\n",
    "        self.Psi0_k = np.exp(-(self.k-k0)**2/(2*sigma))*(np.pi*sigma)**(-1/4)\n",
    "        self.Psi0_x = np.fft.fftshift(np.fft.ifft(self.Psi0_k, norm=\"ortho\"))\n",
    "        return\n",
    "        \n",
    "    def SetupSimulation(self, dt, Tsteps):     \n",
    "        self.t = np.linspace(0, Tsteps*dt, Tsteps)\n",
    "        self.dt = dt\n",
    "        self.T = Tsteps\n",
    "        \n",
    "        self.Psi_x = np.zeros((self.T, self.X), dtype = complex)\n",
    "        self.Psi_k = np.zeros((self.T, self.X), dtype = complex)\n",
    "        self.Psi_x[0,:] = self.Psi0_x\n",
    "        self.Psi_k[0,:] = self.Psi0_k\n",
    "        return\n",
    "        \n",
    "    def SimulateCrankNicholson(self, dt=0.05, Tsteps=10000):      \n",
    "        self.SetupSimulation(dt, Tsteps)\n",
    "\n",
    "        #Setup the Hamiltonian\n",
    "        P = np.ones((3,self.X))\n",
    "        P[1,:] *=-2\n",
    "        H = -1/2*spdiags(P,[-1, 0, 1],self.X,self.X)+spdiags(self.V,0,self.X,self.X)\n",
    "        \n",
    "        #Setup the left and right hand side matrix multiplicator\n",
    "        Hl = 1j/self.dt*scipy.sparse.identity(self.X)-1/2*H\n",
    "        Hr = 1j/self.dt*scipy.sparse.identity(self.X)+1/2*H\n",
    "        \n",
    "        for t in range(self.T-1):\n",
    "            self.Psi_x[t+1,:] = sparse.linalg.bicgstab(Hl, np.dot(Hr.toarray(),self.Psi_x[t,:]))[0]\n",
    "        return        \n",
    "        \n",
    "    def SimulateSplitOperator(self, dt=0.01, Tsteps=10000):       \n",
    "        self.SetupSimulation(dt, Tsteps)\n",
    "        \n",
    "        EvltPos = np.exp(-1j*self.dt*self.V) \n",
    "        EvltMom = np.exp(-1j*self.dt*abs(self.k)**2)\n",
    "        \n",
    "        for t in range(self.T-1):\n",
    "            self.Psi_k[t+1,:] = np.fft.fft (EvltPos*self.Psi_x[t  ,:], norm=\"ortho\")\n",
    "            self.Psi_x[t+1,:] = np.fft.ifft(EvltMom*self.Psi_k[t+1,:], norm=\"ortho\")\n",
    "        return\n",
    "               \n",
    "    def AnimateSetup(self):\n",
    "        self.fig, (self.axPos, self.axMom) = plt.subplots(2,1, facecolor='white')\n",
    "        self.axPos.fill(np.concatenate(([self.x[0]],self.x,[self.x[self.X-1]])), np.concatenate(([-100],self.V,[-100])), 'k', alpha=0.8)\n",
    "        self.linePsi_x, = self.axPos.plot(self.x, abs(self.Psi_x[0,:])**2, 'r')\n",
    "        self.linePsi_k, = self.axMom.plot(self.k, abs(self.Psi_k[0,:])**2, 'y')\n",
    "        self.axPos.set_ylim([np.min(self.V), 25])\n",
    "        self.axPos.set_xlim([-20, 20])\n",
    "        self.axPos.set_xlabel('$x$')\n",
    "        self.axPos.set_ylabel(r'$|\\psi(x)| , V(x)$')\n",
    "        self.axMom.set_xlabel('$k$')\n",
    "        self.axMom.set_ylabel(r'$|\\psi(k)|$')\n",
    "        self.axPos.legend(('$|\\psi(x)|$', '$V(x)$'))\n",
    "        self.axMom.legend(('$|\\psi(k)|$',))\n",
    "        self.text = plt.text(-5, 2.7, \"\") \n",
    "        return\n",
    "        \n",
    "    def AnimationStep(self, i):\n",
    "        self.linePsi_x.set_ydata(abs((self.Psi_x[i%self.T,:]))**2)\n",
    "        self.linePsi_k.set_ydata(abs((self.Psi_k[i%self.T,:]))**2)\n",
    "        self.text.set_text(\"t = %.2f\" % self.t[i%self.T])\n",
    "        return (self.linePsi_x, self.linePsi_k, self.text)"
   ]
  },
  {
   "cell_type": "markdown",
   "metadata": {},
   "source": [
    "First set up the 1D TDSE object, with the appropriate space and initial Gaussian Wave"
   ]
  },
  {
   "cell_type": "code",
   "execution_count": 88,
   "metadata": {
    "collapsed": false
   },
   "outputs": [],
   "source": [
    "MyTDSE = TDSE_1D()\n",
    "MyTDSE.SetSpace(xmin=-100, xmax=100, Xsteps=2001)\n",
    "MyTDSE.SetInitialWave(k0=4, sigma=0.05)"
   ]
  },
  {
   "cell_type": "markdown",
   "metadata": {},
   "source": [
    "First look at an inifinite barriere, where the Gaussian wave reflects for Crank-Nicholson and the Split operator method"
   ]
  },
  {
   "cell_type": "code",
   "execution_count": 73,
   "metadata": {
    "collapsed": false
   },
   "outputs": [],
   "source": [
    "MyTDSE.SetPotential('Infinite Barrier')\n",
    "MyTDSE.SimulateCrankNicholson(Tsteps=3000)\n",
    "MyTDSE.AnimateSetup()\n",
    "ani = animation.FuncAnimation(MyTDSE.fig, MyTDSE.AnimationStep, interval=10, blit=True)\n",
    "plt.show()"
   ]
  },
  {
   "cell_type": "code",
   "execution_count": 74,
   "metadata": {
    "collapsed": false
   },
   "outputs": [],
   "source": [
    "MyTDSE.SimulateSplitOperator(Tsteps=3000)\n",
    "MyTDSE.AnimateSetup()\n",
    "ani = animation.FuncAnimation(MyTDSE.fig, MyTDSE.AnimationStep, interval=10, blit=True)\n",
    "plt.show()"
   ]
  },
  {
   "cell_type": "markdown",
   "metadata": {},
   "source": [
    "Now for a tunneling barrier, classicly a wave cannot pass this barrier if it's to heigh ($V(x)>\\frac{1}{2}p^2$), but quantum mechanically there is a possibility of tunneling (transmitting). This possibility can be looked at by varying the initial velocity of the wave or the potential barrier. From now on the Split Operator method is used, because it turns out to be computationally faster."
   ]
  },
  {
   "cell_type": "code",
   "execution_count": 9,
   "metadata": {
    "collapsed": false
   },
   "outputs": [],
   "source": [
    "fig, (ax1, ax2, ax3) = plt.subplots(1,3, facecolor='white')\n",
    "ax = (ax1, ax2, ax3)\n",
    "\n",
    "#Set ranges for the width (A), wavenumbers (K) and height(V) that are analyzed\n",
    "A = [0.1, 0.5, 1.0]\n",
    "K = np.arange(0.0, 4, 0.2)\n",
    "V = np.array([0.1, 3, 7, 10])\n",
    "c= ['r', 'g', 'b', 'm']\n",
    "T = np.zeros((len(K), len(V)))\n",
    "\n",
    "#Perform the simulation and obtain the tranmission for all combinations\n",
    "for n, a in enumerate(A):\n",
    "    for i, k in enumerate(K):\n",
    "        MyTDSE.SetInitialWave(k0=k, sigma=0.05)\n",
    "        for j, v in enumerate(V):\n",
    "            MyTDSE.SetPotential('Tunneling Barrier', [a, v])\n",
    "            MyTDSE.SimulateSplitOperator(Tsteps=3000)\n",
    "            T[i,j] = np.sum(abs(MyTDSE.Psi_x[-1, int(0.52*MyTDSE.X):-1])**2)/np.sum(abs(MyTDSE.Psi_x[-1])**2)\n",
    "\n",
    "    for j, v in enumerate(V):\n",
    "        ax[n].plot(K, T[:, j], color=c[j], marker='*', markeredgecolor=c[j])\n",
    "        \n",
    "    #Plot tweaking\n",
    "    ax[n].set_xlabel('$k_0$')\n",
    "    ax[n].set_ylabel('$Transmission$')\n",
    "    ax[n].set_title('Width ='+ str(a))\n",
    "    if n==0:\n",
    "        ax[n].legend(('$V_{max} = 0.1$', '$V_{max} = 3$', '$V_{max} = 7$', '$V_{max} = 10$'))\n",
    "        \n",
    "    #Plot the classical boundary and the theoretical (quantum) expectation value\n",
    "    for j, v in enumerate(V):\n",
    "        ax[n].plot(np.ones(2)*np.sqrt(V[j]), [0,1], lw=5, color=c[j], alpha=0.3)\n",
    "        k1 = np.lib.scimath.sqrt(K**2-v*2)\n",
    "        Tth = 4*K*k1*np.exp(-1j*a*(K-k1))/((K+k1)**2-np.exp(2j*a*k1)*(K-k1)**2)\n",
    "        ax[n].plot(K, abs(Tth)**2, color=c[j], ls=':')\n",
    "plt.show()"
   ]
  },
  {
   "cell_type": "markdown",
   "metadata": {},
   "source": [
    "<img src=\"Results/Transmission.png\">\n",
    "\n",
    "The tranmission shows the expected shape when looking at the theoretical expectation (dotted), but it does differ quite a lot from it (we expect this to be a mistake with a constant). It is also seen that the tranmission indeed is non-zero in the quantum mechanical case, whereas this is classically (vertical lines) not possible."
   ]
  },
  {
   "cell_type": "markdown",
   "metadata": {},
   "source": [
    "Next, two confining potentials are implemented: the infinite potential well and the harmonic oscillator."
   ]
  },
  {
   "cell_type": "code",
   "execution_count": 76,
   "metadata": {
    "collapsed": false
   },
   "outputs": [],
   "source": [
    "#Set up the appropriate energy for level n and well width a and give this as input to the TDSE\n",
    "n = 1\n",
    "a = 5\n",
    "MyTDSE.SetInitialWave(k0=n*np.pi/a, sigma=0.001)\n",
    "MyTDSE.SetPotential('Infinite Well', a)\n",
    "MyTDSE.SimulateSplitOperator(Tsteps=10000)\n",
    "MyTDSE.AnimateSetup()\n",
    "ani = animation.FuncAnimation(MyTDSE.fig, MyTDSE.AnimationStep, interval=10, blit=True)\n",
    "plt.show()"
   ]
  },
  {
   "cell_type": "code",
   "execution_count": 77,
   "metadata": {
    "collapsed": false
   },
   "outputs": [],
   "source": [
    "#Set up the appropriate energy level n and oscillator wavenumer k1 and give this as input to the TDSE\n",
    "n = 1\n",
    "k1 = 1\n",
    "\n",
    "\n",
    "MyTDSE.SetInitialWave(k0=k1*np.sqrt(n+0.5), sigma=0.001)\n",
    "MyTDSE.SetPotential('Harmonic Oscillator', [k1])\n",
    "MyTDSE.SimulateSplitOperator(Tsteps=10000)\n",
    "MyTDSE.AnimateSetup()\n",
    "ani = animation.FuncAnimation(MyTDSE.fig, MyTDSE.AnimationStep, interval=10, blit=True)\n",
    "plt.show()"
   ]
  },
  {
   "cell_type": "markdown",
   "metadata": {},
   "source": [
    "We have runned simulations where we wanted to find the quantized levels of both the infinite well potential and the harmonic oscillator, by inserting the right energy via k. This was however unsuccesfull, maybe due to non-relaxation of the system or maybe due to other reasons."
   ]
  },
  {
   "cell_type": "markdown",
   "metadata": {},
   "source": [
    "Lastly, two periodic potentials are looked at. Firstly a simple sine potential and secondly a potential with delta peaks. Tweaking the parameters of the latter can result in a potential that resembles the one in a crystallic structure, so for example the behavoir of an electron within a crystal lattice can be studied (and compared to the free electron)."
   ]
  },
  {
   "cell_type": "code",
   "execution_count": 78,
   "metadata": {
    "collapsed": true
   },
   "outputs": [],
   "source": [
    "MyTDSE.SetInitialWave(k0=2, sigma=0.05)"
   ]
  },
  {
   "cell_type": "code",
   "execution_count": 79,
   "metadata": {
    "collapsed": true
   },
   "outputs": [],
   "source": [
    "MyTDSE.SetPotential('Lattice Sine', [1, 1])\n",
    "MyTDSE.SimulateSplitOperator(Tsteps=5000)\n",
    "MyTDSE.AnimateSetup()\n",
    "ani = animation.FuncAnimation(MyTDSE.fig, MyTDSE.AnimationStep, interval=10, blit=True)\n",
    "plt.show()"
   ]
  },
  {
   "cell_type": "code",
   "execution_count": 80,
   "metadata": {
    "collapsed": false
   },
   "outputs": [],
   "source": [
    "MyTDSE.SetPotential('Lattice Delta', [0.1, 2, -2])\n",
    "MyTDSE.SimulateSplitOperator(Tsteps=5000)\n",
    "MyTDSE.AnimateSetup()\n",
    "ani = animation.FuncAnimation(MyTDSE.fig, MyTDSE.AnimationStep, interval=10, blit=True)\n",
    "plt.show()"
   ]
  },
  {
   "cell_type": "markdown",
   "metadata": {
    "collapsed": true
   },
   "source": [
    "### TDSE 2D"
   ]
  },
  {
   "cell_type": "markdown",
   "metadata": {},
   "source": [
    "And now for 2D. We tried to implement this for both the Crank-Nicholson and Split Operator method, but for CN we did not get the wave moving, so the experiments have been run with SO.\n",
    "To create a plane wave we have used three boundary conditions:\n",
    "- At the bottom (our case y=-4) the wave is forces to be:\n",
    "    - $ \\psi (x) = e^{i(kx-\\omega t)}$\n",
    "    - $ \\frac{d\\psi (x)}{dx} = ike^{i(kx-\\omega t)}$\n",
    "- And additionally, in order to avoid periodic boundary effects of the Fourier Transform at the top:\n",
    "    - $ \\psi (x) = 0$"
   ]
  },
  {
   "cell_type": "code",
   "execution_count": 81,
   "metadata": {
    "collapsed": true
   },
   "outputs": [],
   "source": [
    "class TDSE_2D(object):\n",
    "    def __init__(self):\n",
    "        return\n",
    "        \n",
    "    def SetSpace(self, xmin, xmax, Xsteps, ymin, ymax, Ysteps):\n",
    "        self.x = np.linspace(xmin, xmax, Xsteps)\n",
    "        self.X = Xsteps\n",
    "        self.dx= (xmax-xmin)/self.X\n",
    "        \n",
    "        self.y = np.linspace(ymin, ymax, Ysteps)\n",
    "        self.Y = Ysteps\n",
    "        self.dy= (ymax-ymin)/self.Y\n",
    "        \n",
    "        self.kx = np.fft.fftfreq(self.X, self.dx)\n",
    "        self.ky = np.fft.fftfreq(self.Y, self.dy)\n",
    "        \n",
    "        xx, yy = np.meshgrid(self.kx, self.ky)\n",
    "        self.k = np.sqrt(xx**2 + yy**2)\n",
    "        return\n",
    "                \n",
    "    def SetPotential(self, V):\n",
    "        self.V = np.zeros((self.X, self.Y), dtype=complex)\n",
    "        if V=='Empty':\n",
    "            return\n",
    "        if V=='Single Slit':\n",
    "            self.V[int(0.15*self.X):int(0.16*self.X), int(0.00*self.Y):int(0.45*self.Y)] = 2**10\n",
    "            self.V[int(0.15*self.X):int(0.16*self.X), int(0.55*self.Y):int(1.00*self.Y)] = 2**10\n",
    "        elif V=='Double Slit':\n",
    "            self.V[int(0.15*self.X):int(0.16*self.X), int(0.00*self.Y):int(0.40*self.Y)] = 2**10\n",
    "            self.V[int(0.15*self.X):int(0.16*self.X), int(0.45*self.Y):int(0.55*self.Y)] = 2**10\n",
    "            self.V[int(0.15*self.X):int(0.16*self.X), int(0.60*self.Y):int(1.00*self.Y)] = 2**10\n",
    "        else:\n",
    "            self.V = V\n",
    "        \n",
    "    def SetupSimulation(self, dt, Tsteps):\n",
    "        self.t = np.linspace(0, (Tsteps-1)*dt, Tsteps)\n",
    "        self.dt = dt\n",
    "        self.T = Tsteps\n",
    "        \n",
    "        self.Psi_x = np.zeros((self.T, self.X, self.Y), dtype = complex)\n",
    "        self.Psi_k = np.zeros((self.T, self.X, self.Y), dtype = complex)\n",
    "        return\n",
    "        \n",
    "    def SimulateCrankNicolson(self, dt=0.01, Tsteps=1001):\n",
    "        self.SetupSimulation(dt, Tsteps)\n",
    "        \n",
    "        #Set up the Hamiltonian\n",
    "        P = np.ones((3,self.X))\n",
    "        P[1,:] *=-2\n",
    "        H = scipy.sparse.identity(self.X*self.Y)\n",
    "        P = -np.ones(self.X*self.Y)\n",
    "        for i in range (self.X-1):\n",
    "            P[self.X*(i+1)] = 0\n",
    "        H+= spdiags([np.concatenate((P[1:len(P)], [0])),P], [-1, 1], self.X*self.Y, self.X*self.Y)\n",
    "        H+= spdiags(np.ones((2,self.X*self.Y)), [-self.X, self.X], self.X*self.Y, self.X*self.Y)\n",
    "        H+= spdiags(np.reshape(self.V, (self.X*self.Y)),0, self.X*self.Y,self.X*self.Y)\n",
    "        \n",
    "        Hr = 2j/self.dt*scipy.sparse.identity(self.X*self.Y)-1/2*H\n",
    "        Hl = 2j/self.dt*scipy.sparse.identity(self.X*self.Y)+1/2*H\n",
    "        \n",
    "        k0=1\n",
    "        self.Psi_x[0] = np.zeros((self.X, self.Y), dtype=complex) \n",
    "        \n",
    "        for t in range(self.T-1):\n",
    "            print('Simulated timestep', self.t[t])\n",
    "            \n",
    "            #Use boundary conditions\n",
    "            self.Psi_x[t, 0] = np.ones(self.Y)*np.exp(-1j*self.t[t]*np.pi)\n",
    "            self.Psi_x[t, 1] = self.Psi_x[t, 0, :] + self.dx*np.ones(self.Y)*np.exp(-1j*self.t[t]*np.pi)*1j*k0\n",
    "            self.Psi_x[t,-1] = 0\n",
    "            \n",
    "            #Calculate the next step\n",
    "            Psi = np.reshape(self.Psi_x[t,:,:], (self.X*self.Y))\n",
    "            Psi = sparse.linalg.bicgstab(Hl, Hr.dot(Psi))[0]\n",
    "            self.Psi_x[t+1,:,:] = np.reshape(Psi, (self.X, self.Y)) \n",
    "\n",
    "        return\n",
    "        \n",
    "    def SimulateSplitOperator(self, dt=0.01, Tsteps=1001):       \n",
    "        self.SetupSimulation(dt, Tsteps)\n",
    "\n",
    "        EvltPos = np.exp(-1j*self.dt*self.V)\n",
    "        EvltMom = np.exp(-1j*self.dt*abs(self.k)**2).transpose()\n",
    "        \n",
    "        k0 = 1\n",
    "        self.Psi_x[0] = np.zeros((self.X, self.Y), dtype=complex)    \n",
    "        \n",
    "        for t in range(self.T-1):\n",
    "            #Use boundary conditions\n",
    "            self.Psi_x[t, 0] = np.ones(self.Y)*np.exp(-1j*self.t[t]*np.pi)\n",
    "            self.Psi_x[t, 1] = self.Psi_x[t, 0, :] + self.dx*np.ones(self.Y)*np.exp(-1j*self.t[t]*np.pi)*1j*k0\n",
    "            self.Psi_x[t,-1] = 0\n",
    "            \n",
    "            #Calculate the next step\n",
    "            self.Psi_k[t+1] = np.fft.fft2 (EvltPos*self.Psi_x[t  ], norm=\"ortho\")\n",
    "            self.Psi_x[t+1] = np.fft.ifft2(EvltMom*self.Psi_k[t+1], norm=\"ortho\")\n",
    "        return\n",
    "               \n",
    "    def AnimateSetup(self, interval=10):\n",
    "        self.fig, (self.ax1D, self.ax2D) = plt.subplots(1,2)\n",
    "        self.ax2D.pcolormesh(self.x,self.y,np.real(self.V),cmap='Greys')\n",
    "        self.quadPsi_x = self.ax2D.pcolormesh(self.x, self.y, abs(self.Psi_x[0])**2, shading='gouraud', alpha=0.1, cmap='plasma')\n",
    "        \n",
    "        self.linePsi_x, = self.ax1D.plot(self.y, abs(self.Psi_x[0,:,0])**2, 'y')        \n",
    "        \n",
    "        self.ax2D.set_xlabel('$x$')\n",
    "        self.ax2D.set_ylabel('$y$')\n",
    "        self.ax2D.set_title('Position')\n",
    "        self.ax1D.set_xlabel('$x$')\n",
    "        self.ax1D.set_ylabel(r'$|\\psi(x)|$')\n",
    "        self.ax1D.set_title('Pattern at $y=-2$')\n",
    "        \n",
    "        self.ax1D.set_xlim([-4, 4])\n",
    "        self.ax1D.set_ylim([0, 2])\n",
    "        self.ax2D.set_ylim([-4, -2])\n",
    "        self.text = plt.text(2.5, -2.5, \"\") \n",
    "        \n",
    "        cbar = self.fig.colorbar(self.quadPsi_x, ticks=[-1, 0, 1])\n",
    "        return\n",
    "        \n",
    "    def AnimationStep(self, i):        \n",
    "        self.linePsi_x.set_ydata(abs((self.Psi_x[i%self.T,int(0.25*self.X)]))**2)\n",
    "        self.quadPsi_x.set_array(np.ravel(abs((self.Psi_x[i%self.T,:,:]))**2))\n",
    "        self.text.set_text(\"t = %.2f\" % self.t[i%self.T])\n",
    "        return (self.linePsi_x, self.quadPsi_x, self.text)"
   ]
  },
  {
   "cell_type": "code",
   "execution_count": 82,
   "metadata": {
    "collapsed": false
   },
   "outputs": [],
   "source": [
    "MyTDSE = TDSE_2D()\n",
    "MyTDSE.SetSpace(xmin=-4, xmax=4, Xsteps=2**7, ymin=-4, ymax=4, Ysteps=2**7)"
   ]
  },
  {
   "cell_type": "code",
   "execution_count": 83,
   "metadata": {
    "collapsed": false
   },
   "outputs": [],
   "source": [
    "MyTDSE.SetPotential('Single Slit')\n",
    "MyTDSE.SimulateSplitOperator(dt=0.01, Tsteps=1000)\n",
    "MyTDSE.AnimateSetup(interval=10)\n",
    "ani = animation.FuncAnimation(MyTDSE.fig, MyTDSE.AnimationStep, interval=10, blit=True)\n",
    "plt.show()"
   ]
  },
  {
   "cell_type": "markdown",
   "metadata": {},
   "source": [
    "The results (SO), including the diffraction pattern for a single slit experiment:\n",
    "\n",
    "<img src=\"Results/Single Slit.png\">\n",
    "    \n",
    "This diffraction is as can be expected by theory (qualitively)."
   ]
  },
  {
   "cell_type": "code",
   "execution_count": 84,
   "metadata": {
    "collapsed": true
   },
   "outputs": [],
   "source": [
    "MyTDSE.SetPotential('Double Slit')\n",
    "MyTDSE.SimulateSplitOperator(dt=0.01, Tsteps=1000)\n",
    "MyTDSE.AnimateSetup(interval=10)\n",
    "ani = animation.FuncAnimation(MyTDSE.fig, MyTDSE.AnimationStep, interval=10, blit=True)\n",
    "plt.show()"
   ]
  },
  {
   "cell_type": "markdown",
   "metadata": {},
   "source": [
    "And for the double slit:\n",
    "\n",
    "<img src=\"Results/Double Slit.png\">\n",
    "\n",
    "This diffraction is as can be expected by theory (qualitively)."
   ]
  },
  {
   "cell_type": "code",
   "execution_count": null,
   "metadata": {
    "collapsed": true
   },
   "outputs": [],
   "source": []
  }
 ],
 "metadata": {
  "kernelspec": {
   "display_name": "Python 3",
   "language": "python",
   "name": "python3"
  },
  "language_info": {
   "codemirror_mode": {
    "name": "ipython",
    "version": 3
   },
   "file_extension": ".py",
   "mimetype": "text/x-python",
   "name": "python",
   "nbconvert_exporter": "python",
   "pygments_lexer": "ipython3",
   "version": "3.5.1"
  }
 },
 "nbformat": 4,
 "nbformat_minor": 0
}
